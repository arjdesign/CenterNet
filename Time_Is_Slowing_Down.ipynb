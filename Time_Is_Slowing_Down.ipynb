{
  "nbformat": 4,
  "nbformat_minor": 0,
  "metadata": {
    "colab": {
      "name": "Time Is Slowing Down.ipynb",
      "provenance": [],
      "collapsed_sections": [],
      "authorship_tag": "ABX9TyO6giPpDpBQuCDMVaRYe6Eh",
      "include_colab_link": true
    },
    "kernelspec": {
      "name": "python3",
      "display_name": "Python 3"
    }
  },
  "cells": [
    {
      "cell_type": "markdown",
      "metadata": {
        "id": "view-in-github",
        "colab_type": "text"
      },
      "source": [
        "<a href=\"https://colab.research.google.com/github/arjdesign/CenterNet/blob/master/Time_Is_Slowing_Down.ipynb\" target=\"_parent\"><img src=\"https://colab.research.google.com/assets/colab-badge.svg\" alt=\"Open In Colab\"/></a>"
      ]
    },
    {
      "cell_type": "code",
      "metadata": {
        "id": "xBES20Qny7-u",
        "colab_type": "code",
        "colab": {}
      },
      "source": [
        "from decimal import *\n",
        "from scipy import constants\n",
        "import numpy as np"
      ],
      "execution_count": null,
      "outputs": []
    },
    {
      "cell_type": "code",
      "metadata": {
        "id": "BjYPCyU43yM6",
        "colab_type": "code",
        "colab": {
          "base_uri": "https://localhost:8080/",
          "height": 34
        },
        "outputId": "846074b7-e669-481a-b0b0-7c4248b4af72"
      },
      "source": [
        "getcontext()"
      ],
      "execution_count": null,
      "outputs": [
        {
          "output_type": "execute_result",
          "data": {
            "text/plain": [
              "Context(prec=28, rounding=ROUND_HALF_EVEN, Emin=-999999, Emax=999999, capitals=1, clamp=0, flags=[], traps=[InvalidOperation, DivisionByZero, Overflow])"
            ]
          },
          "metadata": {
            "tags": []
          },
          "execution_count": 2
        }
      ]
    },
    {
      "cell_type": "code",
      "metadata": {
        "id": "GjJQQeC74pvr",
        "colab_type": "code",
        "colab": {}
      },
      "source": [
        "with localcontext() as ctx:\n",
        "  ctx.prec = 60\n",
        "  plank_time = np.sqrt((constants.hbar*constants.gravitational_constant)/constants.speed_of_light**5)\n"
      ],
      "execution_count": null,
      "outputs": []
    },
    {
      "cell_type": "code",
      "metadata": {
        "id": "t7qSCDV2zB4z",
        "colab_type": "code",
        "colab": {}
      },
      "source": [
        ""
      ],
      "execution_count": null,
      "outputs": []
    },
    {
      "cell_type": "code",
      "metadata": {
        "id": "Ocvpf5kMz2pW",
        "colab_type": "code",
        "colab": {
          "base_uri": "https://localhost:8080/",
          "height": 34
        },
        "outputId": "bf1932c4-828d-4add-ba8e-c5c4d4d401d8"
      },
      "source": [
        "plank_time"
      ],
      "execution_count": null,
      "outputs": [
        {
          "output_type": "execute_result",
          "data": {
            "text/plain": [
              "5.391246448313605e-44"
            ]
          },
          "metadata": {
            "tags": []
          },
          "execution_count": 4
        }
      ]
    },
    {
      "cell_type": "code",
      "metadata": {
        "id": "zVtDkAqxz4Ap",
        "colab_type": "code",
        "colab": {}
      },
      "source": [
        ""
      ],
      "execution_count": null,
      "outputs": []
    },
    {
      "cell_type": "markdown",
      "metadata": {
        "id": "aQnyQeFi01Aa",
        "colab_type": "text"
      },
      "source": [
        "**Hypothesis:**\n",
        "\n",
        "Time is slowing down as the rate of plank time per second. This is the reason why we experience accelerated expansion of the universe.\n",
        "\n",
        "Experiments.\n",
        "\n",
        "Lets assume that two drivers are raching side by side at 10m/s. Both are driving symultaniously. In this scenerio both of them would feel that they have equal velocity. That means dV (v1-v2) =0\n",
        "\n",
        "Case 1: \n",
        "Assume that one driver1 is driving at time t1 = now and the driver 2 is driving one seconds ago. Driver1 is driving at 10m/s1. Here the s1 is the second at time t1 and the \n",
        "LIkewise driver2 is driving at 10m/s2. S2 is the second at 2.\n",
        "\n",
        "In this case the s1 and s2 have different.\n",
        "\n",
        "\n",
        "\n"
      ]
    },
    {
      "cell_type": "code",
      "metadata": {
        "id": "TKWaT1eA1KbY",
        "colab_type": "code",
        "colab": {
          "base_uri": "https://localhost:8080/",
          "height": 34
        },
        "outputId": "06c90598-21af-4b04-daf3-f9e2a30f72bc"
      },
      "source": [
        "with localcontext() as ctx:\n",
        "  ctx.prec = 60\n",
        "  time_now_in_sec = 1\n",
        "  time_one_sec_ago_in_sec = 1.0- 100000*plank_time\n",
        "time_one_sec_ago_in_sec"
      ],
      "execution_count": null,
      "outputs": [
        {
          "output_type": "execute_result",
          "data": {
            "text/plain": [
              "1.0"
            ]
          },
          "metadata": {
            "tags": []
          },
          "execution_count": 5
        }
      ]
    },
    {
      "cell_type": "code",
      "metadata": {
        "id": "SXClJo5M3E7C",
        "colab_type": "code",
        "colab": {}
      },
      "source": [
        ""
      ],
      "execution_count": null,
      "outputs": []
    },
    {
      "cell_type": "code",
      "metadata": {
        "id": "C87hhFMm7F7D",
        "colab_type": "code",
        "colab": {}
      },
      "source": [
        "no_of_seconds_in_million_year = Decimal(1000000*8760*60*60)\n",
        "no_of_seconds_in_13_bill_year = Decimal(13770000000000*8760*60*60)"
      ],
      "execution_count": null,
      "outputs": []
    },
    {
      "cell_type": "code",
      "metadata": {
        "id": "I8YNDtyr9V3u",
        "colab_type": "code",
        "colab": {
          "base_uri": "https://localhost:8080/",
          "height": 34
        },
        "outputId": "efb7f298-8b44-4bea-e39e-7f6f0302ba69"
      },
      "source": [
        "no_of_seconds_in_million_year"
      ],
      "execution_count": null,
      "outputs": [
        {
          "output_type": "execute_result",
          "data": {
            "text/plain": [
              "Decimal('31536000000000')"
            ]
          },
          "metadata": {
            "tags": []
          },
          "execution_count": 7
        }
      ]
    },
    {
      "cell_type": "code",
      "metadata": {
        "id": "01xVX-eA9X9i",
        "colab_type": "code",
        "colab": {}
      },
      "source": [
        "second_in_Million_year_ago = Decimal(1 - (no_of_seconds_in_million_year*Decimal(plank_time) ))\n",
        "second_in_13_bill_year_ago = Decimal(1 - (no_of_seconds_in_13_bill_year*Decimal(plank_time) ))"
      ],
      "execution_count": null,
      "outputs": []
    },
    {
      "cell_type": "code",
      "metadata": {
        "id": "mcBdoyuR962p",
        "colab_type": "code",
        "colab": {
          "base_uri": "https://localhost:8080/",
          "height": 51
        },
        "outputId": "de29b576-a823-4729-b858-5c87e9820fa3"
      },
      "source": [
        "print (\"Second in a million years ago \", second_in_Million_year_ago)\n",
        "print (\"Second in a 13.77 billion years ago \", second_in_13_bill_year_ago)"
      ],
      "execution_count": null,
      "outputs": [
        {
          "output_type": "stream",
          "text": [
            "Second in a million years ago  1.000000000000000000000000000\n",
            "Second in a 13.77 billion years ago  0.9999999999999999999999765885\n"
          ],
          "name": "stdout"
        }
      ]
    },
    {
      "cell_type": "code",
      "metadata": {
        "id": "6TcdixMP-L8Z",
        "colab_type": "code",
        "colab": {}
      },
      "source": [
        "#How much is the second shorter in a million years?\n",
        "second_today = 1\n",
        "second_decreased_by = second_today - second_in_Million_year_ago"
      ],
      "execution_count": null,
      "outputs": []
    },
    {
      "cell_type": "code",
      "metadata": {
        "id": "7sYUMWO5-s0B",
        "colab_type": "code",
        "colab": {
          "base_uri": "https://localhost:8080/",
          "height": 34
        },
        "outputId": "fb43a3d8-1f79-4f1a-8d91-294056c7f237"
      },
      "source": [
        "print(\"second is decreased by in a million year\",  second_decreased_by)"
      ],
      "execution_count": null,
      "outputs": [
        {
          "output_type": "stream",
          "text": [
            "second is decreased by in a million year 0E-27\n"
          ],
          "name": "stdout"
        }
      ]
    },
    {
      "cell_type": "code",
      "metadata": {
        "id": "8eR3ndU0_CgT",
        "colab_type": "code",
        "colab": {}
      },
      "source": [
        ""
      ],
      "execution_count": null,
      "outputs": []
    },
    {
      "cell_type": "markdown",
      "metadata": {
        "id": "mkVJjX3yAFma",
        "colab_type": "text"
      },
      "source": [
        "THe speed of solar system is 230 km per second and if. If an object that is 1 million light year away was moving with exact 230km per second we would not experience that difference in speed. "
      ]
    },
    {
      "cell_type": "code",
      "metadata": {
        "id": "uiuyGqTMAi1s",
        "colab_type": "code",
        "colab": {}
      },
      "source": [
        "#adjusting the speed \n",
        "\n",
        "speed = Decimal(230)/Decimal(second_in_Million_year_ago)\n",
        "  "
      ],
      "execution_count": null,
      "outputs": []
    },
    {
      "cell_type": "code",
      "metadata": {
        "id": "kZ8odNulBgOR",
        "colab_type": "code",
        "colab": {
          "base_uri": "https://localhost:8080/",
          "height": 34
        },
        "outputId": "b14572fd-ac55-441a-a2b4-54f1bfebd0ba"
      },
      "source": [
        "speed"
      ],
      "execution_count": null,
      "outputs": [
        {
          "output_type": "execute_result",
          "data": {
            "text/plain": [
              "Decimal('2.3E+2')"
            ]
          },
          "metadata": {
            "tags": []
          },
          "execution_count": 13
        }
      ]
    },
    {
      "cell_type": "code",
      "metadata": {
        "id": "ws862-UEBhVQ",
        "colab_type": "code",
        "colab": {}
      },
      "source": [
        "current_second = Decimal(plank_time)**Decimal(137860000000000000000000000000000)"
      ],
      "execution_count": null,
      "outputs": []
    },
    {
      "cell_type": "code",
      "metadata": {
        "id": "3bOtKdAwCles",
        "colab_type": "code",
        "colab": {
          "base_uri": "https://localhost:8080/",
          "height": 34
        },
        "outputId": "74291633-840f-4666-fa1b-8ff369c0424f"
      },
      "source": [
        "Decimal(current_second)"
      ],
      "execution_count": null,
      "outputs": [
        {
          "output_type": "execute_result",
          "data": {
            "text/plain": [
              "Decimal('0E-1000026')"
            ]
          },
          "metadata": {
            "tags": []
          },
          "execution_count": 15
        }
      ]
    },
    {
      "cell_type": "code",
      "metadata": {
        "id": "XAq7S0nkC5Nh",
        "colab_type": "code",
        "colab": {
          "base_uri": "https://localhost:8080/",
          "height": 34
        },
        "outputId": "2a5168fa-7f44-4f6c-ae89-963bf8a0b930"
      },
      "source": [
        "# Experiment 2:\n",
        "\n",
        "Decimal(second_decreased_by)*Decimal(75)"
      ],
      "execution_count": null,
      "outputs": [
        {
          "output_type": "execute_result",
          "data": {
            "text/plain": [
              "Decimal('0E-27')"
            ]
          },
          "metadata": {
            "tags": []
          },
          "execution_count": 16
        }
      ]
    },
    {
      "cell_type": "code",
      "metadata": {
        "id": "Dzm1v3NjGzDN",
        "colab_type": "code",
        "colab": {
          "base_uri": "https://localhost:8080/",
          "height": 34
        },
        "outputId": "266ca322-2b0f-4d10-c051-3ba6ac00e8d4"
      },
      "source": [
        "plank_time**plank_time"
      ],
      "execution_count": null,
      "outputs": [
        {
          "output_type": "execute_result",
          "data": {
            "text/plain": [
              "1.0"
            ]
          },
          "metadata": {
            "tags": []
          },
          "execution_count": 17
        }
      ]
    },
    {
      "cell_type": "code",
      "metadata": {
        "id": "bG7J_nL-JoTh",
        "colab_type": "code",
        "colab": {
          "base_uri": "https://localhost:8080/",
          "height": 34
        },
        "outputId": "f893435c-1cb4-44b7-f579-c012753a9807"
      },
      "source": [
        "print (\"Plank time to the power plank time is\",Decimal(plank_time)**Decimal(plank_time))"
      ],
      "execution_count": null,
      "outputs": [
        {
          "output_type": "stream",
          "text": [
            "Plank time to the power plank time is 1.000000000000000000000000000\n"
          ],
          "name": "stdout"
        }
      ]
    },
    {
      "cell_type": "code",
      "metadata": {
        "id": "FgyvhBL0Jsj4",
        "colab_type": "code",
        "colab": {
          "base_uri": "https://localhost:8080/",
          "height": 34
        },
        "outputId": "66ba3471-022e-4545-f8d6-73fbb4fed352"
      },
      "source": [
        "print (\"Plank time to the power beginning of universe is\",Decimal(plank_time)**Decimal(second_in_13_bill_year_ago))"
      ],
      "execution_count": null,
      "outputs": [
        {
          "output_type": "stream",
          "text": [
            "Plank time to the power beginning of universe is 5.391246448313604551674203892E-44\n"
          ],
          "name": "stdout"
        }
      ]
    },
    {
      "cell_type": "markdown",
      "metadata": {
        "id": "FUXwBt5B0eUr",
        "colab_type": "text"
      },
      "source": [
        "From the above thouyght experiment it seems that the rate of increasing of time persecond has to be far greater than than the plank time.\n",
        "\n",
        "**Experiment 2 **\n"
      ]
    },
    {
      "cell_type": "code",
      "metadata": {
        "id": "mXSgT4w01GNm",
        "colab_type": "code",
        "colab": {}
      },
      "source": [
        ""
      ],
      "execution_count": null,
      "outputs": []
    },
    {
      "cell_type": "code",
      "metadata": {
        "id": "QRGWlv6c1q6H",
        "colab_type": "code",
        "colab": {}
      },
      "source": [
        ""
      ],
      "execution_count": null,
      "outputs": []
    },
    {
      "cell_type": "code",
      "metadata": {
        "id": "EPuUOjbt104x",
        "colab_type": "code",
        "colab": {}
      },
      "source": [
        "#use this to find out the second one million years ago\n",
        "\n",
        "#second_in_Million_year_ago_v2 = Decimal(1 - (no_of_seconds_in_million_year*Decimal(smallest_second_K) ))\n",
        "#second_in_13_bill_year_ago_v2 = Decimal(1 - (no_of_seconds_in_13_bill_year*Decimal(smallest_second_K) ))"
      ],
      "execution_count": null,
      "outputs": []
    },
    {
      "cell_type": "code",
      "metadata": {
        "id": "1wRxjRbv2JIZ",
        "colab_type": "code",
        "colab": {}
      },
      "source": [
        "\n"
      ],
      "execution_count": null,
      "outputs": []
    },
    {
      "cell_type": "markdown",
      "metadata": {
        "id": "kGx3zAEUUPXv",
        "colab_type": "text"
      },
      "source": [
        "**Experiment 3**"
      ]
    },
    {
      "cell_type": "code",
      "metadata": {
        "id": "4U8i1TKE3wX7",
        "colab_type": "code",
        "colab": {}
      },
      "source": [
        "\n"
      ],
      "execution_count": null,
      "outputs": []
    },
    {
      "cell_type": "code",
      "metadata": {
        "id": "e5DBrkvZik2S",
        "colab_type": "code",
        "colab": {}
      },
      "source": [
        "\n"
      ],
      "execution_count": null,
      "outputs": []
    },
    {
      "cell_type": "code",
      "metadata": {
        "id": "zIjJk50dW1-c",
        "colab_type": "code",
        "colab": {}
      },
      "source": [
        ""
      ],
      "execution_count": null,
      "outputs": []
    },
    {
      "cell_type": "code",
      "metadata": {
        "id": "crNn6StK7bAs",
        "colab_type": "code",
        "colab": {
          "base_uri": "https://localhost:8080/",
          "height": 136
        },
        "outputId": "60cab2a5-9e64-4de2-844d-c112858cff68"
      },
      "source": [
        "#Decimal(first_universe_second)/Decimal(plank_time)\n",
        "#ignore plank time for now and focus on how old is the universe.\n",
        "life_of_universe_in_years = Decimal(137860000000000000000000000000000)\n",
        "life_of_universe_in_sec = life_of_universe_in_years * Decimal(8760*60*60)\n",
        "first_universe_second = Decimal(1)/life_of_universe_in_sec\n",
        "\n",
        "\n",
        "\n",
        "print(\"the first universe second is\", first_universe_second)\n",
        "print(\"the second universe second is\", first_universe_second+ first_universe_second)\n",
        "print(\"the third universe second is\", first_universe_second+ first_universe_second + first_universe_second)\n",
        "print(\"the 1000th universe second is\", 1000*first_universe_second)\n",
        "print(\"Current universe second is\", life_of_universe_in_sec*first_universe_second)\n",
        "\n",
        "\"\"\"\n",
        "The length of the second a million light years ago is given by following calculation\n",
        "Step1: convert 1 million light years to second \n",
        "\"\"\"\n",
        "\n",
        "#step 1\n",
        "\n",
        "million_years_sec = Decimal(1000000*8760*60*60)\n",
        "print(\"1 Million year second is equal to \", million_years_sec, \"seconds\")\n",
        "\n",
        "# THe The length of second that is million_yeasrs_sec ago from now is given by following function:\n",
        "\n",
        "def length_of_sec_million_years_sec_ago(million_years_sec, life_of_universe_in_sec):\n",
        "  life_of_universe_in_sec = life_of_universe_in_sec\n",
        "  million_years_sec = million_years_sec\n",
        "\n",
        "  the_length_of_sec_mill_years_ago = (life_of_universe_in_sec-million_years_sec)*first_universe_second\n",
        "\n",
        "  return {\"the_length_of_sec_mill_years_ago\": the_length_of_sec_mill_years_ago,\n",
        "          \"THe second was shorter by\": (Decimal(1)-the_length_of_sec_mill_years_ago)}\n",
        "\n",
        "\n",
        "#Another idea:\n",
        "\n",
        "print(\"current second is\", Decimal(first_universe_second)* Decimal(life_of_universe_in_sec))\n"
      ],
      "execution_count": null,
      "outputs": [
        {
          "output_type": "stream",
          "text": [
            "the first universe second is 2.300144493236949550581207871E-40\n",
            "the second universe second is 4.600288986473899101162415742E-40\n",
            "the third universe second is 6.900433479710848651743623613E-40\n",
            "the 1000th universe second is 2.300144493236949550581207871E-37\n",
            "Current universe second is 1.000000000000000000000000000\n",
            "1 Million year second is equal to  31536000000000 seconds\n",
            "current second is 1.000000000000000000000000000\n"
          ],
          "name": "stdout"
        }
      ]
    },
    {
      "cell_type": "code",
      "metadata": {
        "id": "As3LTMUif3s_",
        "colab_type": "code",
        "colab": {
          "base_uri": "https://localhost:8080/",
          "height": 51
        },
        "outputId": "07cd87fb-af21-49f7-c97a-733919eb38c9"
      },
      "source": [
        "length_of_sec_million_years_sec_ago(million_years_sec=million_years_sec, life_of_universe_in_sec=life_of_universe_in_sec)"
      ],
      "execution_count": null,
      "outputs": [
        {
          "output_type": "execute_result",
          "data": {
            "text/plain": [
              "{'THe second was shorter by': Decimal('7.4E-27'),\n",
              " 'the_length_of_sec_mill_years_ago': Decimal('0.9999999999999999999999999926')}"
            ]
          },
          "metadata": {
            "tags": []
          },
          "execution_count": 22
        }
      ]
    },
    {
      "cell_type": "code",
      "metadata": {
        "id": "P6CyJP-18pFy",
        "colab_type": "code",
        "colab": {}
      },
      "source": [
        ""
      ],
      "execution_count": null,
      "outputs": []
    },
    {
      "cell_type": "markdown",
      "metadata": {
        "id": "KqHkqes1ggrV",
        "colab_type": "text"
      },
      "source": [
        "**Experiment 4**\n",
        "\n",
        "Since the origin of universe is approximation. Can 1/plank_time provides the time when the universe was originated. Lets explore on this concept more.\n",
        "\n",
        "From Experiment three, we see that the plank time and the first universe second are relatively close enough. The error is only four digit off. In the cosmic level, it can be because of the approximation error."
      ]
    },
    {
      "cell_type": "code",
      "metadata": {
        "id": "97nTjJoRgyCG",
        "colab_type": "code",
        "colab": {}
      },
      "source": [
        "age_of_universe_sec_exp4 = Decimal(1)/Decimal(plank_time)"
      ],
      "execution_count": null,
      "outputs": []
    },
    {
      "cell_type": "code",
      "metadata": {
        "id": "q-CNpKvjhS4r",
        "colab_type": "code",
        "colab": {
          "base_uri": "https://localhost:8080/",
          "height": 34
        },
        "outputId": "02d04f40-f98d-49e1-ff90-45c1cf395c6d"
      },
      "source": [
        "print(\"Age of universe in second based on plank time is: \", age_of_universe_sec_exp4)"
      ],
      "execution_count": null,
      "outputs": [
        {
          "output_type": "stream",
          "text": [
            "Age of universe in second based on plank time is:  1.854858629793862447263103167E+43\n"
          ],
          "name": "stdout"
        }
      ]
    },
    {
      "cell_type": "code",
      "metadata": {
        "id": "_U7dmGFhhbRm",
        "colab_type": "code",
        "colab": {}
      },
      "source": [
        "age_of_universe_years_exp4 = age_of_universe_sec_exp4/Decimal(8760*60*60)"
      ],
      "execution_count": null,
      "outputs": []
    },
    {
      "cell_type": "code",
      "metadata": {
        "id": "gu4vKK06hs-u",
        "colab_type": "code",
        "colab": {
          "base_uri": "https://localhost:8080/",
          "height": 34
        },
        "outputId": "9de2820e-6b49-4bed-e99f-2ed51ca453d5"
      },
      "source": [
        "print(\"Age of universe in years based on plank time is: \", age_of_universe_years_exp4)"
      ],
      "execution_count": null,
      "outputs": [
        {
          "output_type": "stream",
          "text": [
            "Age of universe in years based on plank time is:  5.881718131005398424857633076E+35\n"
          ],
          "name": "stdout"
        }
      ]
    },
    {
      "cell_type": "code",
      "metadata": {
        "id": "6ALtfpMbhyr-",
        "colab_type": "code",
        "colab": {}
      },
      "source": [
        ""
      ],
      "execution_count": null,
      "outputs": []
    },
    {
      "cell_type": "markdown",
      "metadata": {
        "id": "oeGwW9iyiVdx",
        "colab_type": "text"
      },
      "source": [
        "This looks little off\n",
        "\n",
        "**Experiment 5**\n",
        "\n",
        "From the above mention we found that the planktime**PlankTime =1\n",
        "\n",
        "From the above observation we can deduct the following."
      ]
    },
    {
      "cell_type": "code",
      "metadata": {
        "id": "uOFkWqQ5CPSZ",
        "colab_type": "code",
        "colab": {}
      },
      "source": [
        "plank_time = np.sqrt((constants.hbar*constants.gravitational_constant)/constants.speed_of_light**5) # eqn1"
      ],
      "execution_count": null,
      "outputs": []
    },
    {
      "cell_type": "code",
      "metadata": {
        "id": "9HNkhaa8CzIy",
        "colab_type": "code",
        "colab": {
          "base_uri": "https://localhost:8080/",
          "height": 34
        },
        "outputId": "1f932393-9e3c-448d-f27d-612961e1b55b"
      },
      "source": [
        "Decimal(plank_time)**Decimal(plank_time) #eqn 2"
      ],
      "execution_count": null,
      "outputs": [
        {
          "output_type": "execute_result",
          "data": {
            "text/plain": [
              "Decimal('1.000000000000000000000000000')"
            ]
          },
          "metadata": {
            "tags": []
          },
          "execution_count": 28
        }
      ]
    },
    {
      "cell_type": "code",
      "metadata": {
        "id": "ZqeW28FYCfwg",
        "colab_type": "code",
        "colab": {}
      },
      "source": [
        "plank_length = np.sqrt((constants.hbar*constants.gravitational_constant)/constants.speed_of_light**3) #eqn 3"
      ],
      "execution_count": null,
      "outputs": []
    },
    {
      "cell_type": "code",
      "metadata": {
        "id": "o8a3_hijCqWg",
        "colab_type": "code",
        "colab": {
          "base_uri": "https://localhost:8080/",
          "height": 34
        },
        "outputId": "db92387b-599d-47ea-81db-e217f2030c7f"
      },
      "source": [
        "Decimal(plank_length)**Decimal(plank_length)"
      ],
      "execution_count": null,
      "outputs": [
        {
          "output_type": "execute_result",
          "data": {
            "text/plain": [
              "Decimal('1.000000000000000000000000000')"
            ]
          },
          "metadata": {
            "tags": []
          },
          "execution_count": 30
        }
      ]
    },
    {
      "cell_type": "code",
      "metadata": {
        "id": "ey2XNqRqEIRI",
        "colab_type": "code",
        "colab": {}
      },
      "source": [
        ""
      ],
      "execution_count": null,
      "outputs": []
    },
    {
      "cell_type": "markdown",
      "metadata": {
        "id": "ltiP2J3ZJITL",
        "colab_type": "text"
      },
      "source": [
        "**Experiment 6**\n",
        "\n",
        "Significance of plank time and speed of light."
      ]
    },
    {
      "cell_type": "code",
      "metadata": {
        "id": "KQJ0XtxGJPvj",
        "colab_type": "code",
        "colab": {}
      },
      "source": [
        "k_constant_plank_time = Decimal(1)/(Decimal(plank_time)* Decimal(constants.speed_of_light))\n",
        "#for a time of 1 sec\n",
        "k_constant_one_sec = Decimal(1)/(Decimal(constants.speed_of_light))\n",
        "\n",
        "plank_by_c = Decimal(plank_time)/Decimal(constants.speed_of_light)\n",
        "plank_l_by_t = Decimal(plank_length)/Decimal(plank_time)"
      ],
      "execution_count": null,
      "outputs": []
    },
    {
      "cell_type": "code",
      "metadata": {
        "id": "ib89rlZcJeVX",
        "colab_type": "code",
        "colab": {
          "base_uri": "https://localhost:8080/",
          "height": 85
        },
        "outputId": "4848c300-0d8d-41e4-9616-1bf01705df85"
      },
      "source": [
        "print(\"the k value for planktime is\", k_constant_plank_time)\n",
        "print(\"the k value for one sec is\", k_constant_one_sec)\n",
        "print(\"The plank divided by c gives\", plank_by_c)\n",
        "print(\"planl length by plank time\", plank_l_by_t)"
      ],
      "execution_count": null,
      "outputs": [
        {
          "output_type": "stream",
          "text": [
            "the k value for planktime is 6.187142405676738029424019625E+34\n",
            "the k value for one sec is 3.335640951981520495755767145E-9\n",
            "The plank divided by c gives 1.798326243521978311963281280E-52\n",
            "planl length by plank time 299792457.9999999656717990729\n"
          ],
          "name": "stdout"
        }
      ]
    },
    {
      "cell_type": "code",
      "metadata": {
        "id": "mY_FYeM4JlAv",
        "colab_type": "code",
        "colab": {}
      },
      "source": [
        ""
      ],
      "execution_count": null,
      "outputs": []
    },
    {
      "cell_type": "markdown",
      "metadata": {
        "id": "592P9J_kdNpc",
        "colab_type": "text"
      },
      "source": [
        "**Experiment 7**\n",
        "\n",
        "Using the formula of the expanding universe as the values"
      ]
    },
    {
      "cell_type": "code",
      "metadata": {
        "id": "Xd7KwSrxdYq2",
        "colab_type": "code",
        "colab": {}
      },
      "source": [
        "k_value = np.square(Decimal(70))/ Decimal(3.086*10**22)"
      ],
      "execution_count": null,
      "outputs": []
    },
    {
      "cell_type": "code",
      "metadata": {
        "id": "juqnxBcedoKO",
        "colab_type": "code",
        "colab": {
          "base_uri": "https://localhost:8080/",
          "height": 34
        },
        "outputId": "125bd766-1e42-4f99-9860-efc051c4aea1"
      },
      "source": [
        "print(\"the value of k is \", k_value)"
      ],
      "execution_count": null,
      "outputs": [
        {
          "output_type": "stream",
          "text": [
            "the value of k is  1.587815942968243842995368459E-19\n"
          ],
          "name": "stdout"
        }
      ]
    },
    {
      "cell_type": "code",
      "metadata": {
        "id": "_6QM-J5bd4AS",
        "colab_type": "code",
        "colab": {}
      },
      "source": [
        "del_t = np.square(Decimal(70))/ (Decimal(k_value)* Decimal(constants.speed_of_light))"
      ],
      "execution_count": null,
      "outputs": []
    },
    {
      "cell_type": "code",
      "metadata": {
        "id": "EdqlQG7Dh-Ew",
        "colab_type": "code",
        "colab": {
          "base_uri": "https://localhost:8080/",
          "height": 34
        },
        "outputId": "6bc58459-f4fa-4eda-94d7-03d1fb74f714"
      },
      "source": [
        "print(\"The value of del_t\", del_t)"
      ],
      "execution_count": null,
      "outputs": [
        {
          "output_type": "stream",
          "text": [
            "The value of del_t 102937879778149.7120060038335\n"
          ],
          "name": "stdout"
        }
      ]
    },
    {
      "cell_type": "code",
      "metadata": {
        "id": "jbKwOpboiCna",
        "colab_type": "code",
        "colab": {}
      },
      "source": [
        "c = Decimal(plank_length)/Decimal(plank_time)"
      ],
      "execution_count": null,
      "outputs": []
    },
    {
      "cell_type": "code",
      "metadata": {
        "id": "Ticr2-DKUZMZ",
        "colab_type": "code",
        "colab": {
          "base_uri": "https://localhost:8080/",
          "height": 34
        },
        "outputId": "cc5f09e0-3184-420a-d0a8-76ef231c6ff3"
      },
      "source": [
        "print (\"ratio of length to time is\", c)"
      ],
      "execution_count": null,
      "outputs": [
        {
          "output_type": "stream",
          "text": [
            "ratio of length to time is 299792457.9999999656717990729\n"
          ],
          "name": "stdout"
        }
      ]
    },
    {
      "cell_type": "code",
      "metadata": {
        "id": "GiHo5ZMQUeLw",
        "colab_type": "code",
        "colab": {}
      },
      "source": [
        ""
      ],
      "execution_count": null,
      "outputs": []
    },
    {
      "cell_type": "markdown",
      "metadata": {
        "id": "43U0BRX0UwJk",
        "colab_type": "text"
      },
      "source": [
        "Space and time are dancing in such a way that the ratio of space and time are always constant. "
      ]
    },
    {
      "cell_type": "code",
      "metadata": {
        "id": "Aqq5H-q9YOdr",
        "colab_type": "code",
        "colab": {}
      },
      "source": [
        "age_of_universe = Decimal(8.8*18**26)/(Decimal(constants.speed_of_light)*Decimal(1000000000))"
      ],
      "execution_count": null,
      "outputs": []
    },
    {
      "cell_type": "code",
      "metadata": {
        "id": "5vPvMbmKYuoJ",
        "colab_type": "code",
        "colab": {
          "base_uri": "https://localhost:8080/",
          "height": 34
        },
        "outputId": "62e5d868-6434-4240-8fc8-ca5d2b508dca"
      },
      "source": [
        "print(\"age of universe\", age_of_universe)"
      ],
      "execution_count": null,
      "outputs": [
        {
          "output_type": "stream",
          "text": [
            "age of universe 12727617113748031.14727738010\n"
          ],
          "name": "stdout"
        }
      ]
    },
    {
      "cell_type": "code",
      "metadata": {
        "id": "m941B5L5jMbz",
        "colab_type": "code",
        "colab": {}
      },
      "source": [
        "speed_of_time = Decimal(1)/Decimal(constants.speed_of_light)"
      ],
      "execution_count": null,
      "outputs": []
    },
    {
      "cell_type": "code",
      "metadata": {
        "id": "UxYWyGQmYygx",
        "colab_type": "code",
        "colab": {
          "base_uri": "https://localhost:8080/",
          "height": 34
        },
        "outputId": "92fe9b65-3d2b-4122-c89d-9ee7ed626512"
      },
      "source": [
        "print(\"rate of change of time WRT distance\", speed_of_time )"
      ],
      "execution_count": null,
      "outputs": [
        {
          "output_type": "stream",
          "text": [
            "rate of change of time WRT distance 3.335640951981520495755767145E-9\n"
          ],
          "name": "stdout"
        }
      ]
    },
    {
      "cell_type": "code",
      "metadata": {
        "id": "OFCdcHxKjDoC",
        "colab_type": "code",
        "colab": {}
      },
      "source": [
        "how_far_away = 290000000\n",
        "time_far_away = (Decimal(how_far_away)+ Decimal(1))*Decimal(speed_of_time)"
      ],
      "execution_count": null,
      "outputs": []
    },
    {
      "cell_type": "code",
      "metadata": {
        "id": "c2I3Jwn-j99l",
        "colab_type": "code",
        "colab": {
          "base_uri": "https://localhost:8080/",
          "height": 163
        },
        "outputId": "6be535d7-1fc7-4879-f50d-a9d099e675d5"
      },
      "source": [
        "print(\"speed of time in 200,000,000 m away\", time_dilation)"
      ],
      "execution_count": null,
      "outputs": [
        {
          "output_type": "error",
          "ename": "NameError",
          "evalue": "ignored",
          "traceback": [
            "\u001b[0;31m---------------------------------------------------------------------------\u001b[0m",
            "\u001b[0;31mNameError\u001b[0m                                 Traceback (most recent call last)",
            "\u001b[0;32m<ipython-input-44-950f8df26aaa>\u001b[0m in \u001b[0;36m<module>\u001b[0;34m()\u001b[0m\n\u001b[0;32m----> 1\u001b[0;31m \u001b[0mprint\u001b[0m\u001b[0;34m(\u001b[0m\u001b[0;34m\"speed of time in 200,000,000 m away\"\u001b[0m\u001b[0;34m,\u001b[0m \u001b[0mtime_dilation\u001b[0m\u001b[0;34m)\u001b[0m\u001b[0;34m\u001b[0m\u001b[0;34m\u001b[0m\u001b[0m\n\u001b[0m",
            "\u001b[0;31mNameError\u001b[0m: name 'time_dilation' is not defined"
          ]
        }
      ]
    },
    {
      "cell_type": "code",
      "metadata": {
        "id": "SfLjyHKkkN2_",
        "colab_type": "code",
        "colab": {}
      },
      "source": [
        "time_diff = Decimal(1)- Decimal(time_far_away)"
      ],
      "execution_count": null,
      "outputs": []
    },
    {
      "cell_type": "code",
      "metadata": {
        "id": "qjGnW9FIeY5o",
        "colab_type": "code",
        "colab": {}
      },
      "source": [
        "print(\"time difference is\", time_diff)"
      ],
      "execution_count": null,
      "outputs": []
    },
    {
      "cell_type": "code",
      "metadata": {
        "id": "QM2KXe2Oekq3",
        "colab_type": "code",
        "colab": {}
      },
      "source": [
        ""
      ],
      "execution_count": null,
      "outputs": []
    },
    {
      "cell_type": "code",
      "metadata": {
        "id": "Tdq7x6-Tt3y4",
        "colab_type": "code",
        "colab": {}
      },
      "source": [
        ""
      ],
      "execution_count": null,
      "outputs": []
    },
    {
      "cell_type": "markdown",
      "metadata": {
        "id": "z0w4ISWYt7E7",
        "colab_type": "text"
      },
      "source": [
        "**Version 2 Experiments**\n",
        "\n",
        "Premise: Rate of change of time WRT distance. \n",
        "When the two \n"
      ]
    },
    {
      "cell_type": "code",
      "metadata": {
        "id": "OKNCVgJZuL7J",
        "colab_type": "code",
        "colab": {}
      },
      "source": [
        "# one pixel is counted as Pt*Pd\n",
        "# Question 1: In 4 seconds you passed 1trttt. How many plank Pixels you covered\n",
        "# The unit of space_time_pixel is s*m\n",
        "\n",
        "space_time_pixel = Decimal(1/Decimal(constants.speed_of_light))*Decimal(1)"
      ],
      "execution_count": null,
      "outputs": []
    },
    {
      "cell_type": "code",
      "metadata": {
        "id": "4n6lTQ_Zu5D5",
        "colab_type": "code",
        "colab": {}
      },
      "source": [
        "print(\"the plank_ pixel is\", space_time_pixel, \"m*s\")"
      ],
      "execution_count": null,
      "outputs": []
    },
    {
      "cell_type": "code",
      "metadata": {
        "id": "Z3jYwvV3u-dh",
        "colab_type": "code",
        "colab": {}
      },
      "source": [
        "# NUmber of space_time pixel for 4sec/meter is given by:\n",
        "\n",
        "number_of_s_t_pixel = Decimal(4)/Decimal(space_time_pixel)\n",
        "print(\"the number of space_time pixel for 4 second per meter is given by\", number_of_s_t_pixel)"
      ],
      "execution_count": null,
      "outputs": []
    },
    {
      "cell_type": "code",
      "metadata": {
        "id": "2qvpIfQSvmRJ",
        "colab_type": "code",
        "colab": {}
      },
      "source": [
        "#Question 2: In one meter you spent 1/c seconds. How many space_time distance pixels you covered.\n",
        "number_of_s_t_pixel = Decimal(1/Decimal(constants.speed_of_light))/Decimal(space_time_pixel)\n",
        "print(\"the number of space_time pixel for 1/c second per meter is given by\", number_of_s_t_pixel, \"pixels\")\n"
      ],
      "execution_count": null,
      "outputs": []
    },
    {
      "cell_type": "code",
      "metadata": {
        "id": "t-emB_LHw2NZ",
        "colab_type": "code",
        "colab": {}
      },
      "source": [
        ""
      ],
      "execution_count": null,
      "outputs": []
    },
    {
      "cell_type": "markdown",
      "metadata": {
        "id": "wwsDJkxoSobE",
        "colab_type": "text"
      },
      "source": [
        "Plank Space-time"
      ]
    },
    {
      "cell_type": "code",
      "metadata": {
        "id": "jx0-jCXpSsFk",
        "colab_type": "code",
        "colab": {}
      },
      "source": [
        "plank_s_t = Decimal(plank_time)*Decimal(plank_length)"
      ],
      "execution_count": null,
      "outputs": []
    },
    {
      "cell_type": "code",
      "metadata": {
        "id": "AyUlGnpES9x1",
        "colab_type": "code",
        "colab": {
          "base_uri": "https://localhost:8080/",
          "height": 34
        },
        "outputId": "58e6f58b-3674-49ff-f27e-a61e57439157"
      },
      "source": [
        "print(\"plank_s_t is given by\", plank_s_t)"
      ],
      "execution_count": null,
      "outputs": [
        {
          "output_type": "stream",
          "text": [
            "plank_s_t is given by 8.713629159993319260997399616E-79\n"
          ],
          "name": "stdout"
        }
      ]
    },
    {
      "cell_type": "code",
      "metadata": {
        "id": "vLDsR_quTFTW",
        "colab_type": "code",
        "colab": {}
      },
      "source": [
        ""
      ],
      "execution_count": null,
      "outputs": []
    }
  ]
}